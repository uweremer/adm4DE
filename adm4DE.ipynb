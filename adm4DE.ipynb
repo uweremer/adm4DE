{
 "cells": [
  {
   "cell_type": "markdown",
   "metadata": {},
   "source": [
    "# adm4DE\n",
    "\n",
    "A NLP boosted matching algortihm for identifiaction of German administrative level 4 units (Municipalities) in unstructered text.\n",
    "\n",
    "\n",
    "## ideas\n",
    "\n",
    "- https://www.gislounge.com/gis-and-named-entity-recognition-identifying-geographic-locations-in-text/ \n",
    "- https://onlinelibrary.wiley.com/doi/epdf/10.1111/tgis.12510\n",
    "- https://github.com/seatgeek/fuzzywuzzy\n",
    "- http://download.geonames.org/export/dump/ \n",
    "- https://medium.com/sicara/train-ner-model-with-nltk-stanford-tagger-english-french-german-6d90573a9486"
   ]
  },
  {
   "cell_type": "code",
   "execution_count": 16,
   "metadata": {},
   "outputs": [],
   "source": [
    "import pandas\n",
    "\n",
    "file = \"./data/articles_baden-württemberg_116091.csv\"\n",
    "#file = \"./data/articles_niedersachsen_59461.csv\"\n",
    "df = pandas.read_csv(file).to_dict()\n"
   ]
  },
  {
   "cell_type": "code",
   "execution_count": 17,
   "metadata": {},
   "outputs": [
    {
     "data": {
      "text/plain": [
       "'Stuttgart'"
      ]
     },
     "execution_count": 17,
     "metadata": {},
     "output_type": "execute_result"
    }
   ],
   "source": [
    "df['location'][1]"
   ]
  },
  {
   "cell_type": "markdown",
   "metadata": {},
   "source": [
    "## Fuzzy matching"
   ]
  },
  {
   "cell_type": "code",
   "execution_count": 30,
   "metadata": {},
   "outputs": [
    {
     "data": {
      "text/plain": [
       "[('Bad Wildbad', 100), ('bad Wildbad, Stadt', 100), ('Wad Bildwad', 64)]"
      ]
     },
     "execution_count": 30,
     "metadata": {},
     "output_type": "execute_result"
    }
   ],
   "source": [
    "from fuzzywuzzy import fuzz, process\n",
    "fuzz.token_set_ratio(\"Bad Wildbad, Stadt\", \"bad Wildbad\")\n",
    "process.extract(\"Bad Wildbad\", [\"Bad Wildbad\", \"bad Wildbad, Stadt\", \"Wad Bildwad\"],  scorer=fuzz.token_set_ratio)"
   ]
  },
  {
   "cell_type": "markdown",
   "metadata": {},
   "source": [
    "## Use the Stanford CoreNLP API in NLTK\n",
    "Details, see https://github.com/nltk/nltk/wiki/Stanford-CoreNLP-API-in-NLTK#german \n",
    "\n",
    "First, retreive German files... \n"
   ]
  },
  {
   "cell_type": "code",
   "execution_count": 1,
   "metadata": {},
   "outputs": [
    {
     "name": "stdout",
     "output_type": "stream",
     "text": [
      "File already exists\n"
     ]
    }
   ],
   "source": [
    "import os.path\n",
    "if os.path.isfile('stanford-german-corenlp-2018-02-27-models.jar'):\n",
    "    print (\"File already exists - skipping download\")\n",
    "else:\n",
    "    import requests\n",
    "    print('Download beginnt')\n",
    "    \n",
    "    models = 'http://nlp.stanford.edu/software/stanford-german-corenlp-2018-02-27-models.jar'\n",
    "    r = requests.get(models)\n",
    "    with open('./stanford-german-corenlp-2018-02-27-models.jar', 'wb') as f:\n",
    "        f.write(r.content)\n",
    "\n",
    "    properties = 'https://raw.githubusercontent.com/stanfordnlp/CoreNLP/master/src/edu/stanford/nlp/pipeline/StanfordCoreNLP-german.properties'\n",
    "    r = requests.get(properties)\n",
    "    with open('./StanfordCoreNLP-german.properties', 'wb') as f:\n",
    "        f.write(r.content)\n",
    "    \n",
    "    print('Download fertig')\n",
    "\n",
    "\n",
    "\n"
   ]
  },
  {
   "cell_type": "code",
   "execution_count": null,
   "metadata": {},
   "outputs": [],
   "source": [
    "import nltk\n",
    "readcsv()"
   ]
  }
 ],
 "metadata": {
  "kernelspec": {
   "display_name": "Python 3",
   "language": "python",
   "name": "python3"
  },
  "language_info": {
   "codemirror_mode": {
    "name": "ipython",
    "version": 3
   },
   "file_extension": ".py",
   "mimetype": "text/x-python",
   "name": "python",
   "nbconvert_exporter": "python",
   "pygments_lexer": "ipython3",
   "version": "3.6.6"
  }
 },
 "nbformat": 4,
 "nbformat_minor": 2
}
